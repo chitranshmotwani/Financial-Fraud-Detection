{
 "cells": [
  {
   "cell_type": "markdown",
   "metadata": {},
   "source": [
    "# SHAP Analysis for Fraud Detection Models"
   ]
  },
  {
   "cell_type": "code",
   "execution_count": null,
   "metadata": {},
   "outputs": [],
   "source": [
    "import shap\n",
    "import joblib\n",
    "import pandas as pd\n",
    "import matplotlib.pyplot as plt\n",
    "from src.utils.explainability import ModelExplainer\n",
    "\n",
    "# Load data and models\n",
    "X_train, X_test, y_train, y_test = joblib.load('data/processed/processed_data.joblib')\n",
    "feature_names = joblib.load('data/processed/feature_names.joblib')\n",
    "\n",
    "# Initialize explainer\n",
    "explainer = ModelExplainer()"
   ]
  },
  {
   "cell_type": "markdown",
   "metadata": {},
   "source": [
    "## SHAP Analysis for Random Forest"
   ]
  },
  {
   "cell_type": "code",
   "execution_count": null,
   "metadata": {},
   "outputs": [],
   "source": [
    "rf_model = joblib.load('models/random_forest_model.joblib')\n",
    "rf_shap = explainer.shap_analysis(rf_model, X_train, X_test, 'random_forest')"
   ]
  },
  {
   "cell_type": "markdown",
   "metadata": {},
   "source": [
    "### Summary Plot"
   ]
  },
  {
   "cell_type": "code",
   "execution_count": null,
   "metadata": {},
   "outputs": [],
   "source": [
    "plt.figure()\n",
    "shap.summary_plot(rf_shap, X_test, feature_names=feature_names, show=False)\n",
    "plt.title('Random Forest SHAP Summary Plot')\n",
    "plt.tight_layout()\n",
    "plt.show()"
   ]
  },
  {
   "cell_type": "markdown",
   "metadata": {},
   "source": [
    "### Dependence Plots"
   ]
  },
  {
   "cell_type": "code",
   "execution_count": null,
   "metadata": {},
   "outputs": [],
   "source": [
    "# Plot dependence plots for top features\n",
    "top_features = pd.DataFrame({\n",
    "    'feature': feature_names,\n",
    "    'mean_abs_shap': np.mean(np.abs(rf_shap.values), axis=0)\n",
    "}).sort_values('mean_abs_shap', ascending=False).head(5)['feature'].tolist()\n",
    "\n",
    "for feature in top_features:\n",
    "    shap.dependence_plot(\n",
    "        feature,\n",
    "        rf_shap.values,\n",
    "        X_test,\n",
    "        feature_names=feature_names,\n",
    "        interaction_index=None,\n",
    "        show=False\n",
    "    )\n",
    "    plt.title(f'SHAP Dependence Plot for {feature}')\n",
    "    plt.tight_layout()\n",
    "    plt.show()"
   ]
  },
  {
   "cell_type": "markdown",
   "metadata": {},
   "source": [
    "## SHAP Analysis for XGBoost"
   ]
  },
  {
   "cell_type": "code",
   "execution_count": null,
   "metadata": {},
   "outputs": [],
   "source": [
    "xgb_model = joblib.load('models/xgboost_model.joblib')\n",
    "xgb_shap = explainer.shap_analysis(xgb_model, X_train, X_test, 'xgboost')"
   ]
  },
  {
   "cell_type": "markdown",
   "metadata": {},
   "source": [
    "### Summary Plot"
   ]
  },
  {
   "cell_type": "code",
   "execution_count": null,
   "metadata": {},
   "outputs": [],
   "source": [
    "plt.figure()\n",
    "shap.summary_plot(xgb_shap, X_test, feature_names=feature_names, show=False)\n",
    "plt.title('XGBoost SHAP Summary Plot')\n",
    "plt.tight_layout()\n",
    "plt.show()"
   ]
  },
  {
   "cell_type": "markdown",
   "metadata": {},
   "source": [
    "### Force Plot for a Specific Instance"
   ]
  },
  {
   "cell_type": "code",
   "execution_count": null,
   "metadata": {},
   "outputs": [],
   "source": [
    "# Find a fraud case\n",
    "fraud_idx = y_test[y_test == 1].index[0]\n",
    "fraud_instance = X_test.loc[fraud_idx]\n",
    "\n",
    "# Generate force plot\n",
    "shap.force_plot(\n",
    "    xgb_shap.base_values[0],\n",
    "    xgb_shap.values[y_test == 1][0],\n",
    "    fraud_instance,\n",
    "    feature_names=feature_names,\n",
    "    matplotlib=True,\n",
    "    show=False\n",
    ")\n",
    "plt.title(f'SHAP Force Plot for Fraud Instance {fraud_idx}')\n",
    "plt.tight_layout()\n",
    "plt.show()"
   ]
  }
 ],
 "metadata": {
  "kernelspec": {
   "display_name": "Python 3",
   "language": "python",
   "name": "python3"
  },
  "language_info": {
   "codemirror_mode": {
    "name": "ipython",
    "version": 3
   },
   "file_extension": ".py",
   "mimetype": "text/x-python",
   "name": "python",
   "nbconvert_exporter": "python",
   "pygments_lexer": "ipython3",
   "version": "3.8.12"
  }
 },
 "nbformat": 4,
 "nbformat_minor": 4
}