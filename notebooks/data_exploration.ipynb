{
 "cells": [
  {
   "cell_type": "markdown",
   "metadata": {},
   "source": [
    "# Data Exploration for Financial Fraud Detection"
   ]
  },
  {
   "cell_type": "code",
   "execution_count": null,
   "metadata": {},
   "outputs": [],
   "source": [
    "import pandas as pd\n",
    "import numpy as np\n",
    "import matplotlib.pyplot as plt\n",
    "import seaborn as sns\n",
    "import joblib\n",
    "from src.utils.preprocessing import DataPreprocessor\n",
    "\n",
    "# Load data\n",
    "try:\n",
    "    df = joblib.load('data/processed/creditcard_raw.joblib')\n",
    "except FileNotFoundError:\n",
    "    from src.utils.data_loader import DataLoader\n",
    "    loader = DataLoader()\n",
    "    df = loader.load_creditcard_data()\n",
    "\n",
    "# Basic info\n",
    "print(f\"Dataset shape: {df.shape}\")\n",
    "print(f\"Fraud rate: {df['Class'].mean()*100:.2f}%\")\n",
    "df.head()"
   ]
  },
  {
   "cell_type": "markdown",
   "metadata": {},
   "source": [
    "## Class Distribution"
   ]
  },
  {
   "cell_type": "code",
   "execution_count": null,
   "metadata": {},
   "outputs": [],
   "source": [
    "plt.figure(figsize=(8, 5))\n",
    "sns.countplot(x='Class', data=df)\n",
    "plt.title('Class Distribution (0: Legitimate, 1: Fraud)')\n",
    "plt.show()"
   ]
  },
  {
   "cell_type": "markdown",
   "metadata": {},
   "source": [
    "## Transaction Amount Analysis"
   ]
  },
  {
   "cell_type": "code",
   "execution_count": null,
   "metadata": {},
   "outputs": [],
   "source": [
    "fig, axes = plt.subplots(1, 2, figsize=(15, 5))\n",
    "\n",
    "# Distribution of transaction amounts\n",
    "sns.histplot(df['Amount'], bins=50, ax=axes[0])\n",
    "axes[0].set_title('Distribution of Transaction Amounts')\n",
    "axes[0].set_xlabel('Amount')\n",
    "axes[0].set_ylabel('Count')\n",
    "\n",
    "# Transaction amounts by class\n",
    "sns.boxplot(x='Class', y='Amount', data=df, ax=axes[1])\n",
    "axes[1].set_title('Transaction Amounts by Class')\n",
    "axes[1].set_yscale('log')\n",
    "\n",
    "plt.tight_layout()\n",
    "plt.show()"
   ]
  },
  {
   "cell_type": "markdown",
   "metadata": {},
   "source": [
    "## Time Analysis"
   ]
  },
  {
   "cell_type": "code",
   "execution_count": null,
   "metadata": {},
   "outputs": [],
   "source": [
    "# Convert Time to hours\n",
    "df['Time_hour'] = df['Time'] % (24 * 3600) // 3600\n",
    "\n",
    "plt.figure(figsize=(12, 5))\n",
    "sns.histplot(data=df, x='Time_hour', hue='Class', bins=24, multiple='stack')\n",
    "plt.title('Transaction Frequency by Hour of Day')\n",
    "plt.xlabel('Hour of Day')\n",
    "plt.ylabel('Count')\n",
    "plt.show()"
   ]
  },
  {
   "cell_type": "markdown",
   "metadata": {},
   "source": [
    "## Correlation Analysis"
   ]
  },
  {
   "cell_type": "code",
   "execution_count": null,
   "metadata": {},
   "outputs": [],
   "source": [
    "# Calculate correlations with Class\n",
    "correlations = df.corr()['Class'].sort_values(ascending=False)\n",
    "\n",
    "# Plot top correlations\n",
    "plt.figure(figsize=(10, 8))\n",
    "sns.barplot(x=correlations[1:11].values, y=correlations[1:11].index)\n",
    "plt.title('Top 10 Features Correlated with Fraud')\n",
    "plt.xlabel('Correlation Coefficient')\n",
    "plt.show()"
   ]
  },
  {
   "cell_type": "markdown",
   "metadata": {},
   "source": [
    "## Feature Distributions"
   ]
  },
  {
   "cell_type": "code",
   "execution_count": null,
   "metadata": {},
   "outputs": [],
   "source": [
    "# Plot distributions of PCA components\n",
    "fig, axes = plt.subplots(5, 2, figsize=(15, 20))\n",
    "axes = axes.flatten()\n",
    "\n",
    "for i, col in enumerate(['V%d' % i for i in range(1, 11)]):\n",
    "    sns.kdeplot(data=df, x=col, hue='Class', ax=axes[i], common_norm=False)\n",
    "    axes[i].set_title(f'Distribution of {col}')\n",
    "\n",
    "plt.tight_layout()\n",
    "plt.show()"
   ]
  }
 ],
 "metadata": {
  "kernelspec": {
   "display_name": "Python 3",
   "language": "python",
   "name": "python3"
  },
  "language_info": {
   "codemirror_mode": {
    "name": "ipython",
    "version": 3
   },
   "file_extension": ".py",
   "mimetype": "text/x-python",
   "name": "python",
   "nbconvert_exporter": "python",
   "pygments_lexer": "ipython3",
   "version": "3.8.12"
  }
 },
 "nbformat": 4,
 "nbformat_minor": 4
}
